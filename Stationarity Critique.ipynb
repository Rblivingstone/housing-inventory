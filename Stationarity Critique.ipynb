{
 "cells": [
  {
   "cell_type": "markdown",
   "metadata": {},
   "source": [
    "#Critique of Methodology\n",
    "##By Ryan Barnes\n",
    "\n",
    "First of all, I do have some problems with how the statistics were done. That's not to say that what Erik Fisher did is not important. I mean c'mon, I wouldn't even be talking about this if he didn't do his thing. My thing is that I think I have found some flaws in the way that he did things. I'll do a more thourough post-mortem on my blog that will highlight other critiques on the methodology, but I just wanted to highlight the main trap that I think Eric walked into. I've done it myself, and I learned from that experience. Hopefully, if you read through this notebook you will see the trap and how to avoid it too."
   ]
  },
  {
   "cell_type": "code",
   "execution_count": 2,
   "metadata": {
    "collapsed": true
   },
   "outputs": [],
   "source": [
    "import pandas\n",
    "from statsmodels.tsa.stattools import *\n",
    "import matplotlib.pyplot as plt\n",
    "import numpy as np\n",
    "import statsmodels.api as sm\n",
    "%matplotlib inline"
   ]
  },
  {
   "cell_type": "markdown",
   "metadata": {},
   "source": [
    "Let's just start with a simple monte carlo experiment to see what can go wrong. Notice that b is not dependent on a at all. Yet both variables depend on time. We'll set up to regress a on b and not worry about time. According to our true relationship, the coefficient on \"a\" should be zero. Let's see what happens."
   ]
  },
  {
   "cell_type": "code",
   "execution_count": 7,
   "metadata": {
    "collapsed": false
   },
   "outputs": [
    {
     "data": {
      "text/html": [
       "<table class=\"simpletable\">\n",
       "<caption>OLS Regression Results</caption>\n",
       "<tr>\n",
       "  <th>Dep. Variable:</th>            <td>b</td>        <th>  R-squared:         </th> <td>   1.000</td> \n",
       "</tr>\n",
       "<tr>\n",
       "  <th>Model:</th>                   <td>OLS</td>       <th>  Adj. R-squared:    </th> <td>   1.000</td> \n",
       "</tr>\n",
       "<tr>\n",
       "  <th>Method:</th>             <td>Least Squares</td>  <th>  F-statistic:       </th> <td>2.279e+07</td>\n",
       "</tr>\n",
       "<tr>\n",
       "  <th>Date:</th>             <td>Fri, 20 May 2016</td> <th>  Prob (F-statistic):</th>  <td>  0.00</td>  \n",
       "</tr>\n",
       "<tr>\n",
       "  <th>Time:</th>                 <td>06:37:27</td>     <th>  Log-Likelihood:    </th> <td> -4631.1</td> \n",
       "</tr>\n",
       "<tr>\n",
       "  <th>No. Observations:</th>      <td>  1000</td>      <th>  AIC:               </th> <td>   9266.</td> \n",
       "</tr>\n",
       "<tr>\n",
       "  <th>Df Residuals:</th>          <td>   998</td>      <th>  BIC:               </th> <td>   9276.</td> \n",
       "</tr>\n",
       "<tr>\n",
       "  <th>Df Model:</th>              <td>     1</td>      <th>                     </th>     <td> </td>    \n",
       "</tr>\n",
       "<tr>\n",
       "  <th>Covariance Type:</th>      <td>nonrobust</td>    <th>                     </th>     <td> </td>    \n",
       "</tr>\n",
       "</table>\n",
       "<table class=\"simpletable\">\n",
       "<tr>\n",
       "    <td></td>       <th>coef</th>     <th>std err</th>      <th>t</th>      <th>P>|t|</th> <th>[95.0% Conf. Int.]</th> \n",
       "</tr>\n",
       "<tr>\n",
       "  <th>a</th>     <td>   26.0033</td> <td>    0.005</td> <td> 4773.821</td> <td> 0.000</td> <td>   25.993    26.014</td>\n",
       "</tr>\n",
       "<tr>\n",
       "  <th>const</th> <td>    0.1831</td> <td>    1.571</td> <td>    0.117</td> <td> 0.907</td> <td>   -2.900     3.266</td>\n",
       "</tr>\n",
       "</table>\n",
       "<table class=\"simpletable\">\n",
       "<tr>\n",
       "  <th>Omnibus:</th>       <td> 1.339</td> <th>  Durbin-Watson:     </th> <td>   1.981</td>\n",
       "</tr>\n",
       "<tr>\n",
       "  <th>Prob(Omnibus):</th> <td> 0.512</td> <th>  Jarque-Bera (JB):  </th> <td>   1.319</td>\n",
       "</tr>\n",
       "<tr>\n",
       "  <th>Skew:</th>          <td> 0.008</td> <th>  Prob(JB):          </th> <td>   0.517</td>\n",
       "</tr>\n",
       "<tr>\n",
       "  <th>Kurtosis:</th>      <td> 2.823</td> <th>  Cond. No.          </th> <td>    576.</td>\n",
       "</tr>\n",
       "</table>"
      ],
      "text/plain": [
       "<class 'statsmodels.iolib.summary.Summary'>\n",
       "\"\"\"\n",
       "                            OLS Regression Results                            \n",
       "==============================================================================\n",
       "Dep. Variable:                      b   R-squared:                       1.000\n",
       "Model:                            OLS   Adj. R-squared:                  1.000\n",
       "Method:                 Least Squares   F-statistic:                 2.279e+07\n",
       "Date:                Fri, 20 May 2016   Prob (F-statistic):               0.00\n",
       "Time:                        06:37:27   Log-Likelihood:                -4631.1\n",
       "No. Observations:                1000   AIC:                             9266.\n",
       "Df Residuals:                     998   BIC:                             9276.\n",
       "Df Model:                           1                                         \n",
       "Covariance Type:            nonrobust                                         \n",
       "==============================================================================\n",
       "                 coef    std err          t      P>|t|      [95.0% Conf. Int.]\n",
       "------------------------------------------------------------------------------\n",
       "a             26.0033      0.005   4773.821      0.000        25.993    26.014\n",
       "const          0.1831      1.571      0.117      0.907        -2.900     3.266\n",
       "==============================================================================\n",
       "Omnibus:                        1.339   Durbin-Watson:                   1.981\n",
       "Prob(Omnibus):                  0.512   Jarque-Bera (JB):                1.319\n",
       "Skew:                           0.008   Prob(JB):                        0.517\n",
       "Kurtosis:                       2.823   Cond. No.                         576.\n",
       "==============================================================================\n",
       "\n",
       "Warnings:\n",
       "[1] Standard Errors assume that the covariance matrix of the errors is correctly specified.\n",
       "\"\"\""
      ]
     },
     "execution_count": 7,
     "metadata": {},
     "output_type": "execute_result"
    }
   ],
   "source": [
    "a=[]\n",
    "b=[]\n",
    "np.random.seed(8184)\n",
    "for t in range(1000):\n",
    "    a.append(0.5*t+np.random.normal(0,1))\n",
    "    b.append(13*t+np.random.normal(0,1))\n",
    "df=pandas.DataFrame([a,b]).T\n",
    "df.columns=['a','b']\n",
    "df['const']=1\n",
    "X=df[['a','const']]\n",
    "sm.OLS(df['b'],X).fit().summary()"
   ]
  },
  {
   "cell_type": "markdown",
   "metadata": {},
   "source": [
    "Holy cow, a explains b perfectly, R2=1! And look at that t-statistic 4773.821! highly significant. \"a\" predicts \"b\" I am the best! Oh wait it should have been zero, what happened? Okay so most of you probably saw where I was going with this before I ran the regression. \"a\" correlates to \"b\" indirectly through time, essentially that's saying \"a\" is correlated with stuff in the error term. So let's see where we went wrong. The problem is that we have non-stationary time series. Let's see that, and then correct for it, and see if we can get the right answer that \"a\" has no effect on \"b\"."
   ]
  },
  {
   "cell_type": "code",
   "execution_count": 14,
   "metadata": {
    "collapsed": false
   },
   "outputs": [
    {
     "name": "stdout",
     "output_type": "stream",
     "text": [
      "(-31.252546298986747, 0.0, 0L, 999L, {'5%': -3.4148938944043334, '1%': -3.9678607816618312, '10%': -3.1296421434972537}, 2696.2448334868395)\n",
      "(-19.518037053814297, 0.0, 2L, 997L, {'5%': -3.4149027470782776, '1%': -3.9678790757313824, '10%': -3.1296473513794565}, 2840.7842530489115)\n"
     ]
    },
    {
     "data": {
      "text/html": [
       "<table class=\"simpletable\">\n",
       "<caption>OLS Regression Results</caption>\n",
       "<tr>\n",
       "  <th>Dep. Variable:</th>           <td>b_</td>        <th>  R-squared:         </th> <td>   0.001</td>\n",
       "</tr>\n",
       "<tr>\n",
       "  <th>Model:</th>                   <td>OLS</td>       <th>  Adj. R-squared:    </th> <td>  -0.000</td>\n",
       "</tr>\n",
       "<tr>\n",
       "  <th>Method:</th>             <td>Least Squares</td>  <th>  F-statistic:       </th> <td>  0.6291</td>\n",
       "</tr>\n",
       "<tr>\n",
       "  <th>Date:</th>             <td>Fri, 20 May 2016</td> <th>  Prob (F-statistic):</th>  <td> 0.428</td> \n",
       "</tr>\n",
       "<tr>\n",
       "  <th>Time:</th>                 <td>06:51:51</td>     <th>  Log-Likelihood:    </th> <td> -1791.6</td>\n",
       "</tr>\n",
       "<tr>\n",
       "  <th>No. Observations:</th>      <td>   999</td>      <th>  AIC:               </th> <td>   3587.</td>\n",
       "</tr>\n",
       "<tr>\n",
       "  <th>Df Residuals:</th>          <td>   997</td>      <th>  BIC:               </th> <td>   3597.</td>\n",
       "</tr>\n",
       "<tr>\n",
       "  <th>Df Model:</th>              <td>     1</td>      <th>                     </th>     <td> </td>   \n",
       "</tr>\n",
       "<tr>\n",
       "  <th>Covariance Type:</th>      <td>nonrobust</td>    <th>                     </th>     <td> </td>   \n",
       "</tr>\n",
       "</table>\n",
       "<table class=\"simpletable\">\n",
       "<tr>\n",
       "    <td></td>       <th>coef</th>     <th>std err</th>      <th>t</th>      <th>P>|t|</th> <th>[95.0% Conf. Int.]</th> \n",
       "</tr>\n",
       "<tr>\n",
       "  <th>a_</th>    <td>    0.0272</td> <td>    0.034</td> <td>    0.793</td> <td> 0.428</td> <td>   -0.040     0.094</td>\n",
       "</tr>\n",
       "<tr>\n",
       "  <th>const</th> <td>   12.9863</td> <td>    0.049</td> <td>  264.293</td> <td> 0.000</td> <td>   12.890    13.083</td>\n",
       "</tr>\n",
       "</table>\n",
       "<table class=\"simpletable\">\n",
       "<tr>\n",
       "  <th>Omnibus:</th>       <td> 2.162</td> <th>  Durbin-Watson:     </th> <td>   2.962</td>\n",
       "</tr>\n",
       "<tr>\n",
       "  <th>Prob(Omnibus):</th> <td> 0.339</td> <th>  Jarque-Bera (JB):  </th> <td>   2.119</td>\n",
       "</tr>\n",
       "<tr>\n",
       "  <th>Skew:</th>          <td>-0.067</td> <th>  Prob(JB):          </th> <td>   0.347</td>\n",
       "</tr>\n",
       "<tr>\n",
       "  <th>Kurtosis:</th>      <td> 2.819</td> <th>  Cond. No.          </th> <td>    1.68</td>\n",
       "</tr>\n",
       "</table>"
      ],
      "text/plain": [
       "<class 'statsmodels.iolib.summary.Summary'>\n",
       "\"\"\"\n",
       "                            OLS Regression Results                            \n",
       "==============================================================================\n",
       "Dep. Variable:                     b_   R-squared:                       0.001\n",
       "Model:                            OLS   Adj. R-squared:                 -0.000\n",
       "Method:                 Least Squares   F-statistic:                    0.6291\n",
       "Date:                Fri, 20 May 2016   Prob (F-statistic):              0.428\n",
       "Time:                        06:51:51   Log-Likelihood:                -1791.6\n",
       "No. Observations:                 999   AIC:                             3587.\n",
       "Df Residuals:                     997   BIC:                             3597.\n",
       "Df Model:                           1                                         \n",
       "Covariance Type:            nonrobust                                         \n",
       "==============================================================================\n",
       "                 coef    std err          t      P>|t|      [95.0% Conf. Int.]\n",
       "------------------------------------------------------------------------------\n",
       "a_             0.0272      0.034      0.793      0.428        -0.040     0.094\n",
       "const         12.9863      0.049    264.293      0.000        12.890    13.083\n",
       "==============================================================================\n",
       "Omnibus:                        2.162   Durbin-Watson:                   2.962\n",
       "Prob(Omnibus):                  0.339   Jarque-Bera (JB):                2.119\n",
       "Skew:                          -0.067   Prob(JB):                        0.347\n",
       "Kurtosis:                       2.819   Cond. No.                         1.68\n",
       "==============================================================================\n",
       "\n",
       "Warnings:\n",
       "[1] Standard Errors assume that the covariance matrix of the errors is correctly specified.\n",
       "\"\"\""
      ]
     },
     "execution_count": 14,
     "metadata": {},
     "output_type": "execute_result"
    }
   ],
   "source": [
    "print adfuller(df['a'],regression='ct')\n",
    "print adfuller(df['b'],regression='ct')\n",
    "df['a_']=df['a'].diff(1)\n",
    "df['b_']=df['b'].diff(1)\n",
    "X=df[['a_','const']].dropna()\n",
    "sm.OLS(df['b_'].dropna(),X).fit().summary()"
   ]
  },
  {
   "cell_type": "markdown",
   "metadata": {},
   "source": [
    "Let's see what I did. I did an augmented dickey fuller test to see if we had a unit root (check to see if the time series was stationary). Neither series was. So what we want to do is take the difference of each series. The first difference of each series should be stationary. Then we regress that against each other. And oh look my R2 fell to a mere 0.001, and my coefficient on a is 0.0272 and non-significant, our t-value is less than 1. But we have changed the question too, we are now asking what effect does a shock to a have on shocks to b. And the answer is: none. \n",
    "\n",
    "The constant got really big though, 12.98, and it is very significant. What is that about? Remember, we took the first difference of the series. So the coefficient on the constant is telling us what that difference is, or in other words what is the trend over time. For each unit of time, we go up by 12.98. That isn't too far off from the true value of 13. Okay now let's celebrate, we fixed our problem, our methodology is valid according to our monte carlo simulation."
   ]
  },
  {
   "cell_type": "code",
   "execution_count": 16,
   "metadata": {
    "collapsed": false
   },
   "outputs": [
    {
     "data": {
      "text/html": [
       "<div>\n",
       "<table border=\"1\" class=\"dataframe\">\n",
       "  <thead>\n",
       "    <tr style=\"text-align: right;\">\n",
       "      <th></th>\n",
       "      <th>year</th>\n",
       "      <th>median_rent</th>\n",
       "      <th>housing_units</th>\n",
       "      <th>net_new_housing</th>\n",
       "      <th>employment</th>\n",
       "      <th>total_wages</th>\n",
       "      <th>CPI</th>\n",
       "    </tr>\n",
       "  </thead>\n",
       "  <tbody>\n",
       "    <tr>\n",
       "      <th>count</th>\n",
       "      <td>111.000000</td>\n",
       "      <td>70.000000</td>\n",
       "      <td>109.000000</td>\n",
       "      <td>110.000000</td>\n",
       "      <td>40.00000</td>\n",
       "      <td>4.000000e+01</td>\n",
       "      <td>103.000000</td>\n",
       "    </tr>\n",
       "    <tr>\n",
       "      <th>mean</th>\n",
       "      <td>1961.000000</td>\n",
       "      <td>918.336971</td>\n",
       "      <td>277198.990826</td>\n",
       "      <td>2764.672727</td>\n",
       "      <td>550556.90000</td>\n",
       "      <td>2.510346e+10</td>\n",
       "      <td>0.726313</td>\n",
       "    </tr>\n",
       "    <tr>\n",
       "      <th>std</th>\n",
       "      <td>32.186954</td>\n",
       "      <td>982.317471</td>\n",
       "      <td>74685.390617</td>\n",
       "      <td>2664.468235</td>\n",
       "      <td>40914.27537</td>\n",
       "      <td>1.422260e+10</td>\n",
       "      <td>0.706433</td>\n",
       "    </tr>\n",
       "    <tr>\n",
       "      <th>min</th>\n",
       "      <td>1906.000000</td>\n",
       "      <td>35.000000</td>\n",
       "      <td>84077.000000</td>\n",
       "      <td>150.000000</td>\n",
       "      <td>440498.00000</td>\n",
       "      <td>5.423094e+09</td>\n",
       "      <td>0.100000</td>\n",
       "    </tr>\n",
       "    <tr>\n",
       "      <th>25%</th>\n",
       "      <td>1933.500000</td>\n",
       "      <td>131.250000</td>\n",
       "      <td>235376.000000</td>\n",
       "      <td>1208.000000</td>\n",
       "      <td>532505.50000</td>\n",
       "      <td>1.397072e+10</td>\n",
       "      <td>0.174500</td>\n",
       "    </tr>\n",
       "    <tr>\n",
       "      <th>50%</th>\n",
       "      <td>1961.000000</td>\n",
       "      <td>503.508000</td>\n",
       "      <td>295256.000000</td>\n",
       "      <td>1902.000000</td>\n",
       "      <td>555131.00000</td>\n",
       "      <td>2.051196e+10</td>\n",
       "      <td>0.312000</td>\n",
       "    </tr>\n",
       "    <tr>\n",
       "      <th>75%</th>\n",
       "      <td>1988.500000</td>\n",
       "      <td>1643.750000</td>\n",
       "      <td>334399.000000</td>\n",
       "      <td>3321.000000</td>\n",
       "      <td>571902.50000</td>\n",
       "      <td>3.523139e+10</td>\n",
       "      <td>1.258000</td>\n",
       "    </tr>\n",
       "    <tr>\n",
       "      <th>max</th>\n",
       "      <td>2016.000000</td>\n",
       "      <td>3650.000000</td>\n",
       "      <td>379597.000000</td>\n",
       "      <td>16265.000000</td>\n",
       "      <td>640378.00000</td>\n",
       "      <td>5.883602e+10</td>\n",
       "      <td>2.327710</td>\n",
       "    </tr>\n",
       "  </tbody>\n",
       "</table>\n",
       "</div>"
      ],
      "text/plain": [
       "              year  median_rent  housing_units  net_new_housing    employment  \\\n",
       "count   111.000000    70.000000     109.000000       110.000000      40.00000   \n",
       "mean   1961.000000   918.336971  277198.990826      2764.672727  550556.90000   \n",
       "std      32.186954   982.317471   74685.390617      2664.468235   40914.27537   \n",
       "min    1906.000000    35.000000   84077.000000       150.000000  440498.00000   \n",
       "25%    1933.500000   131.250000  235376.000000      1208.000000  532505.50000   \n",
       "50%    1961.000000   503.508000  295256.000000      1902.000000  555131.00000   \n",
       "75%    1988.500000  1643.750000  334399.000000      3321.000000  571902.50000   \n",
       "max    2016.000000  3650.000000  379597.000000     16265.000000  640378.00000   \n",
       "\n",
       "        total_wages         CPI  \n",
       "count  4.000000e+01  103.000000  \n",
       "mean   2.510346e+10    0.726313  \n",
       "std    1.422260e+10    0.706433  \n",
       "min    5.423094e+09    0.100000  \n",
       "25%    1.397072e+10    0.174500  \n",
       "50%    2.051196e+10    0.312000  \n",
       "75%    3.523139e+10    1.258000  \n",
       "max    5.883602e+10    2.327710  "
      ]
     },
     "execution_count": 16,
     "metadata": {},
     "output_type": "execute_result"
    }
   ],
   "source": [
    "df=pandas.read_csv('c:/users/ryan/desktop/combined.csv')\n",
    "df.describe()"
   ]
  },
  {
   "cell_type": "code",
   "execution_count": 17,
   "metadata": {
    "collapsed": false
   },
   "outputs": [
    {
     "data": {
      "text/html": [
       "<div>\n",
       "<table border=\"1\" class=\"dataframe\">\n",
       "  <thead>\n",
       "    <tr style=\"text-align: right;\">\n",
       "      <th></th>\n",
       "      <th>year</th>\n",
       "      <th>median_rent</th>\n",
       "      <th>housing_units</th>\n",
       "      <th>net_new_housing</th>\n",
       "      <th>employment</th>\n",
       "      <th>total_wages</th>\n",
       "      <th>CPI</th>\n",
       "    </tr>\n",
       "  </thead>\n",
       "  <tbody>\n",
       "    <tr>\n",
       "      <th>count</th>\n",
       "      <td>40.000000</td>\n",
       "      <td>40.000000</td>\n",
       "      <td>40.000000</td>\n",
       "      <td>40.000000</td>\n",
       "      <td>40.00000</td>\n",
       "      <td>4.000000e+01</td>\n",
       "      <td>40.000000</td>\n",
       "    </tr>\n",
       "    <tr>\n",
       "      <th>mean</th>\n",
       "      <td>1994.500000</td>\n",
       "      <td>1339.202200</td>\n",
       "      <td>346315.500000</td>\n",
       "      <td>1502.550000</td>\n",
       "      <td>550556.90000</td>\n",
       "      <td>2.510346e+10</td>\n",
       "      <td>1.461104</td>\n",
       "    </tr>\n",
       "    <tr>\n",
       "      <th>std</th>\n",
       "      <td>11.690452</td>\n",
       "      <td>844.114303</td>\n",
       "      <td>17006.590493</td>\n",
       "      <td>822.053182</td>\n",
       "      <td>40914.27537</td>\n",
       "      <td>1.422260e+10</td>\n",
       "      <td>0.525014</td>\n",
       "    </tr>\n",
       "    <tr>\n",
       "      <th>min</th>\n",
       "      <td>1975.000000</td>\n",
       "      <td>250.000000</td>\n",
       "      <td>321551.000000</td>\n",
       "      <td>269.000000</td>\n",
       "      <td>440498.00000</td>\n",
       "      <td>5.423094e+09</td>\n",
       "      <td>0.541000</td>\n",
       "    </tr>\n",
       "    <tr>\n",
       "      <th>25%</th>\n",
       "      <td>1984.750000</td>\n",
       "      <td>662.977500</td>\n",
       "      <td>331273.250000</td>\n",
       "      <td>832.250000</td>\n",
       "      <td>532505.50000</td>\n",
       "      <td>1.397072e+10</td>\n",
       "      <td>1.060000</td>\n",
       "    </tr>\n",
       "    <tr>\n",
       "      <th>50%</th>\n",
       "      <td>1994.500000</td>\n",
       "      <td>992.655000</td>\n",
       "      <td>344519.500000</td>\n",
       "      <td>1414.000000</td>\n",
       "      <td>555131.00000</td>\n",
       "      <td>2.051196e+10</td>\n",
       "      <td>1.477000</td>\n",
       "    </tr>\n",
       "    <tr>\n",
       "      <th>75%</th>\n",
       "      <td>2004.250000</td>\n",
       "      <td>1916.550000</td>\n",
       "      <td>358717.750000</td>\n",
       "      <td>1908.750000</td>\n",
       "      <td>571902.50000</td>\n",
       "      <td>3.523139e+10</td>\n",
       "      <td>1.861250</td>\n",
       "    </tr>\n",
       "    <tr>\n",
       "      <th>max</th>\n",
       "      <td>2014.000000</td>\n",
       "      <td>3300.000000</td>\n",
       "      <td>379597.000000</td>\n",
       "      <td>3514.000000</td>\n",
       "      <td>640378.00000</td>\n",
       "      <td>5.883602e+10</td>\n",
       "      <td>2.327710</td>\n",
       "    </tr>\n",
       "  </tbody>\n",
       "</table>\n",
       "</div>"
      ],
      "text/plain": [
       "              year  median_rent  housing_units  net_new_housing    employment  \\\n",
       "count    40.000000    40.000000      40.000000        40.000000      40.00000   \n",
       "mean   1994.500000  1339.202200  346315.500000      1502.550000  550556.90000   \n",
       "std      11.690452   844.114303   17006.590493       822.053182   40914.27537   \n",
       "min    1975.000000   250.000000  321551.000000       269.000000  440498.00000   \n",
       "25%    1984.750000   662.977500  331273.250000       832.250000  532505.50000   \n",
       "50%    1994.500000   992.655000  344519.500000      1414.000000  555131.00000   \n",
       "75%    2004.250000  1916.550000  358717.750000      1908.750000  571902.50000   \n",
       "max    2014.000000  3300.000000  379597.000000      3514.000000  640378.00000   \n",
       "\n",
       "        total_wages        CPI  \n",
       "count  4.000000e+01  40.000000  \n",
       "mean   2.510346e+10   1.461104  \n",
       "std    1.422260e+10   0.525014  \n",
       "min    5.423094e+09   0.541000  \n",
       "25%    1.397072e+10   1.060000  \n",
       "50%    2.051196e+10   1.477000  \n",
       "75%    3.523139e+10   1.861250  \n",
       "max    5.883602e+10   2.327710  "
      ]
     },
     "execution_count": 17,
     "metadata": {},
     "output_type": "execute_result"
    }
   ],
   "source": [
    "df=df[df['employment'].notnull()]\n",
    "df.describe()"
   ]
  },
  {
   "cell_type": "code",
   "execution_count": 18,
   "metadata": {
    "collapsed": false
   },
   "outputs": [],
   "source": [
    "df['log_rent']=np.log(df['median_rent'])-np.log(df['CPI'])\n",
    "df['percapwag']=df['total_wages']/df['employment']\n",
    "df['const']=1\n",
    "df['log_wages']=np.log(df['percapwag'])-np.log(df['CPI'])\n",
    "df['log_wages1']=np.log(df['total_wages'])-np.log(df['CPI'])\n",
    "df['log_units']=np.log(df['housing_units'])\n",
    "df['log_employment']=np.log(df['employment'])"
   ]
  },
  {
   "cell_type": "code",
   "execution_count": 19,
   "metadata": {
    "collapsed": false
   },
   "outputs": [
    {
     "data": {
      "image/png": "[encoded data removed]",
      "text/plain": [
       "<matplotlib.figure.Figure at 0x190c5f28>"
      ]
     },
     "metadata": {},
     "output_type": "display_data"
    }
   ],
   "source": [
    "plt.plot(df['year'],df['log_rent'])\n",
    "plt.plot(df['year'],df['log_wages'])\n",
    "plt.ylim=(0,100)"
   ]
  },
  {
   "cell_type": "code",
   "execution_count": 20,
   "metadata": {
    "collapsed": false
   },
   "outputs": [
    {
     "data": {
      "text/html": [
       "<table class=\"simpletable\">\n",
       "<caption>OLS Regression Results</caption>\n",
       "<tr>\n",
       "  <th>Dep. Variable:</th>        <td>log_rent</td>     <th>  R-squared:         </th> <td>   0.951</td>\n",
       "</tr>\n",
       "<tr>\n",
       "  <th>Model:</th>                   <td>OLS</td>       <th>  Adj. R-squared:    </th> <td>   0.947</td>\n",
       "</tr>\n",
       "<tr>\n",
       "  <th>Method:</th>             <td>Least Squares</td>  <th>  F-statistic:       </th> <td>   233.7</td>\n",
       "</tr>\n",
       "<tr>\n",
       "  <th>Date:</th>             <td>Fri, 20 May 2016</td> <th>  Prob (F-statistic):</th> <td>1.20e-23</td>\n",
       "</tr>\n",
       "<tr>\n",
       "  <th>Time:</th>                 <td>07:07:16</td>     <th>  Log-Likelihood:    </th> <td>  47.410</td>\n",
       "</tr>\n",
       "<tr>\n",
       "  <th>No. Observations:</th>      <td>    40</td>      <th>  AIC:               </th> <td>  -86.82</td>\n",
       "</tr>\n",
       "<tr>\n",
       "  <th>Df Residuals:</th>          <td>    36</td>      <th>  BIC:               </th> <td>  -80.06</td>\n",
       "</tr>\n",
       "<tr>\n",
       "  <th>Df Model:</th>              <td>     3</td>      <th>                     </th>     <td> </td>   \n",
       "</tr>\n",
       "<tr>\n",
       "  <th>Covariance Type:</th>      <td>nonrobust</td>    <th>                     </th>     <td> </td>   \n",
       "</tr>\n",
       "</table>\n",
       "<table class=\"simpletable\">\n",
       "<tr>\n",
       "         <td></td>           <th>coef</th>     <th>std err</th>      <th>t</th>      <th>P>|t|</th> <th>[95.0% Conf. Int.]</th> \n",
       "</tr>\n",
       "<tr>\n",
       "  <th>const</th>          <td>   -2.0768</td> <td>    8.894</td> <td>   -0.233</td> <td> 0.817</td> <td>  -20.115    15.961</td>\n",
       "</tr>\n",
       "<tr>\n",
       "  <th>log_wages1</th>     <td>    1.8729</td> <td>    0.209</td> <td>    8.945</td> <td> 0.000</td> <td>    1.448     2.298</td>\n",
       "</tr>\n",
       "<tr>\n",
       "  <th>log_units</th>      <td>   -2.4115</td> <td>    0.916</td> <td>   -2.632</td> <td> 0.012</td> <td>   -4.269    -0.553</td>\n",
       "</tr>\n",
       "<tr>\n",
       "  <th>log_employment</th> <td>   -0.3361</td> <td>    0.243</td> <td>   -1.382</td> <td> 0.176</td> <td>   -0.829     0.157</td>\n",
       "</tr>\n",
       "</table>\n",
       "<table class=\"simpletable\">\n",
       "<tr>\n",
       "  <th>Omnibus:</th>       <td> 8.262</td> <th>  Durbin-Watson:     </th> <td>   1.268</td>\n",
       "</tr>\n",
       "<tr>\n",
       "  <th>Prob(Omnibus):</th> <td> 0.016</td> <th>  Jarque-Bera (JB):  </th> <td>   7.753</td>\n",
       "</tr>\n",
       "<tr>\n",
       "  <th>Skew:</th>          <td> 0.747</td> <th>  Prob(JB):          </th> <td>  0.0207</td>\n",
       "</tr>\n",
       "<tr>\n",
       "  <th>Kurtosis:</th>      <td> 4.556</td> <th>  Cond. No.          </th> <td>2.16e+04</td>\n",
       "</tr>\n",
       "</table>"
      ],
      "text/plain": [
       "<class 'statsmodels.iolib.summary.Summary'>\n",
       "\"\"\"\n",
       "                            OLS Regression Results                            \n",
       "==============================================================================\n",
       "Dep. Variable:               log_rent   R-squared:                       0.951\n",
       "Model:                            OLS   Adj. R-squared:                  0.947\n",
       "Method:                 Least Squares   F-statistic:                     233.7\n",
       "Date:                Fri, 20 May 2016   Prob (F-statistic):           1.20e-23\n",
       "Time:                        07:07:16   Log-Likelihood:                 47.410\n",
       "No. Observations:                  40   AIC:                            -86.82\n",
       "Df Residuals:                      36   BIC:                            -80.06\n",
       "Df Model:                           3                                         \n",
       "Covariance Type:            nonrobust                                         \n",
       "==================================================================================\n",
       "                     coef    std err          t      P>|t|      [95.0% Conf. Int.]\n",
       "----------------------------------------------------------------------------------\n",
       "const             -2.0768      8.894     -0.233      0.817       -20.115    15.961\n",
       "log_wages1         1.8729      0.209      8.945      0.000         1.448     2.298\n",
       "log_units         -2.4115      0.916     -2.632      0.012        -4.269    -0.553\n",
       "log_employment    -0.3361      0.243     -1.382      0.176        -0.829     0.157\n",
       "==============================================================================\n",
       "Omnibus:                        8.262   Durbin-Watson:                   1.268\n",
       "Prob(Omnibus):                  0.016   Jarque-Bera (JB):                7.753\n",
       "Skew:                           0.747   Prob(JB):                       0.0207\n",
       "Kurtosis:                       4.556   Cond. No.                     2.16e+04\n",
       "==============================================================================\n",
       "\n",
       "Warnings:\n",
       "[1] Standard Errors assume that the covariance matrix of the errors is correctly specified.\n",
       "[2] The condition number is large, 2.16e+04. This might indicate that there are\n",
       "strong multicollinearity or other numerical problems.\n",
       "\"\"\""
      ]
     },
     "execution_count": 20,
     "metadata": {},
     "output_type": "execute_result"
    }
   ],
   "source": [
    "X=df[['const','log_wages1','log_units','log_employment']]\n",
    "y=df['log_rent']\n",
    "model=sm.OLS(y,X).fit()\n",
    "model.summary()"
   ]
  },
  {
   "cell_type": "markdown",
   "metadata": {},
   "source": [
    "So what I did was replicate the analysis, sort of, from Eric Fisher. We got a very high R2, like he did, and we got similar coefficients, but they are on the wrong variables, maybe he just typoed at this point, or maybe the numerical solver he used is slightly different since I used a closed form solution and he probably used gradient descent or something. At the very least we have some cause for concern over his methodology at this point. Let's do some ADF tests, and then some differencing, and then some regressions like we did for our monte carlo problem."
   ]
  },
  {
   "cell_type": "code",
   "execution_count": 27,
   "metadata": {
    "collapsed": false
   },
   "outputs": [
    {
     "name": "stdout",
     "output_type": "stream",
     "text": [
      "(-3.7366859898264839, 0.02005222001726395, 7L, 32L, {'5%': -3.5578989233398435, '1%': -4.2735351794433596, '10%': -3.2123659912109375}, -109.22681279637681)\n",
      "(-0.12946684697940328, 0.99265733003382928, 7L, 32L, {'5%': -3.5578989233398435, '1%': -4.2735351794433596, '10%': -3.2123659912109375}, -279.4738300490597)\n",
      "(-3.9071272117414075, 0.0118618577709816, 1L, 38L, {'5%': -3.5331113660883506, '1%': -4.219141325995043, '10%': -3.1982181075958596}, -133.32580782185863)\n",
      "(-2.9246868949902911, 0.15436760022652568, 1L, 38L, {'5%': -3.5331113660883506, '1%': -4.219141325995043, '10%': -3.1982181075958596}, -44.763144576785095)\n"
     ]
    }
   ],
   "source": [
    "print adfuller(df['log_wages1'],regression='ct')\n",
    "print adfuller(df['log_units'],regression='ct')\n",
    "print adfuller(df['log_employment'],regression='ct')\n",
    "print adfuller(df['log_rent'],regression='ct')"
   ]
  },
  {
   "cell_type": "markdown",
   "metadata": {},
   "source": [
    "Although log rent and log units appear to be stationary, log rent is close enough that I kind of doubt it. Let's see if it is with a slightly longer time series. If not, we'lll difference that one too."
   ]
  },
  {
   "cell_type": "code",
   "execution_count": 31,
   "metadata": {
    "collapsed": false
   },
   "outputs": [
    {
     "name": "stdout",
     "output_type": "stream",
     "text": [
      "(-5.2757100927634326, 6.289888491507311e-05, 2L, 66L, {'5%': -3.4792434170910203, '1%': -4.1029309851963154, '10%': -3.1672046581517659}, -114.59663628236939)\n",
      "(-6.4499403612739741, 2.3759010171895862e-07, 13L, 95L, {'5%': -3.4577588776789616, '1%': -4.0573721781600813, '10%': -3.1547278480828109}, -827.78931224872804)\n"
     ]
    }
   ],
   "source": [
    "df2=pandas.read_csv('c:/users/ryan/desktop/combined.csv')\n",
    "df2['log_rent']=np.log(df2['median_rent'])-np.log(df2['CPI'])\n",
    "df2['log_units']=np.log(df2['housing_units'])\n",
    "print adfuller(df2['log_rent'].dropna(),regression='ct')\n",
    "print adfuller(df2['log_units'].dropna(),regression='ct')"
   ]
  },
  {
   "cell_type": "markdown",
   "metadata": {},
   "source": [
    "Okay the other two that we thought might be stationary really aren't stationary. We just didn't have enough data to detect that it wasn't before, probably because of greater variability than say log_wages. Let's take first differences of all of these variables and then run a regression."
   ]
  },
  {
   "cell_type": "code",
   "execution_count": 32,
   "metadata": {
    "collapsed": false
   },
   "outputs": [
    {
     "data": {
      "text/html": [
       "<table class=\"simpletable\">\n",
       "<caption>OLS Regression Results</caption>\n",
       "<tr>\n",
       "  <th>Dep. Variable:</th>          <td>rent_</td>      <th>  R-squared:         </th> <td>   0.367</td>\n",
       "</tr>\n",
       "<tr>\n",
       "  <th>Model:</th>                   <td>OLS</td>       <th>  Adj. R-squared:    </th> <td>   0.313</td>\n",
       "</tr>\n",
       "<tr>\n",
       "  <th>Method:</th>             <td>Least Squares</td>  <th>  F-statistic:       </th> <td>   6.775</td>\n",
       "</tr>\n",
       "<tr>\n",
       "  <th>Date:</th>             <td>Fri, 20 May 2016</td> <th>  Prob (F-statistic):</th>  <td>0.00101</td>\n",
       "</tr>\n",
       "<tr>\n",
       "  <th>Time:</th>                 <td>07:31:02</td>     <th>  Log-Likelihood:    </th> <td>  42.801</td>\n",
       "</tr>\n",
       "<tr>\n",
       "  <th>No. Observations:</th>      <td>    39</td>      <th>  AIC:               </th> <td>  -77.60</td>\n",
       "</tr>\n",
       "<tr>\n",
       "  <th>Df Residuals:</th>          <td>    35</td>      <th>  BIC:               </th> <td>  -70.95</td>\n",
       "</tr>\n",
       "<tr>\n",
       "  <th>Df Model:</th>              <td>     3</td>      <th>                     </th>     <td> </td>   \n",
       "</tr>\n",
       "<tr>\n",
       "  <th>Covariance Type:</th>      <td>nonrobust</td>    <th>                     </th>     <td> </td>   \n",
       "</tr>\n",
       "</table>\n",
       "<table class=\"simpletable\">\n",
       "<tr>\n",
       "     <td></td>       <th>coef</th>     <th>std err</th>      <th>t</th>      <th>P>|t|</th> <th>[95.0% Conf. Int.]</th> \n",
       "</tr>\n",
       "<tr>\n",
       "  <th>const</th>  <td>    0.0315</td> <td>    0.033</td> <td>    0.967</td> <td> 0.340</td> <td>   -0.035     0.098</td>\n",
       "</tr>\n",
       "<tr>\n",
       "  <th>wages_</th> <td>    1.5855</td> <td>    0.479</td> <td>    3.310</td> <td> 0.002</td> <td>    0.613     2.558</td>\n",
       "</tr>\n",
       "<tr>\n",
       "  <th>units_</th> <td>   -7.9982</td> <td>    6.335</td> <td>   -1.263</td> <td> 0.215</td> <td>  -20.859     4.863</td>\n",
       "</tr>\n",
       "<tr>\n",
       "  <th>emp_</th>   <td>   -0.6667</td> <td>    0.615</td> <td>   -1.084</td> <td> 0.286</td> <td>   -1.915     0.582</td>\n",
       "</tr>\n",
       "</table>\n",
       "<table class=\"simpletable\">\n",
       "<tr>\n",
       "  <th>Omnibus:</th>       <td> 0.930</td> <th>  Durbin-Watson:     </th> <td>   2.588</td>\n",
       "</tr>\n",
       "<tr>\n",
       "  <th>Prob(Omnibus):</th> <td> 0.628</td> <th>  Jarque-Bera (JB):  </th> <td>   0.818</td>\n",
       "</tr>\n",
       "<tr>\n",
       "  <th>Skew:</th>          <td> 0.004</td> <th>  Prob(JB):          </th> <td>   0.664</td>\n",
       "</tr>\n",
       "<tr>\n",
       "  <th>Kurtosis:</th>      <td> 2.291</td> <th>  Cond. No.          </th> <td>    464.</td>\n",
       "</tr>\n",
       "</table>"
      ],
      "text/plain": [
       "<class 'statsmodels.iolib.summary.Summary'>\n",
       "\"\"\"\n",
       "                            OLS Regression Results                            \n",
       "==============================================================================\n",
       "Dep. Variable:                  rent_   R-squared:                       0.367\n",
       "Model:                            OLS   Adj. R-squared:                  0.313\n",
       "Method:                 Least Squares   F-statistic:                     6.775\n",
       "Date:                Fri, 20 May 2016   Prob (F-statistic):            0.00101\n",
       "Time:                        07:31:02   Log-Likelihood:                 42.801\n",
       "No. Observations:                  39   AIC:                            -77.60\n",
       "Df Residuals:                      35   BIC:                            -70.95\n",
       "Df Model:                           3                                         \n",
       "Covariance Type:            nonrobust                                         \n",
       "==============================================================================\n",
       "                 coef    std err          t      P>|t|      [95.0% Conf. Int.]\n",
       "------------------------------------------------------------------------------\n",
       "const          0.0315      0.033      0.967      0.340        -0.035     0.098\n",
       "wages_         1.5855      0.479      3.310      0.002         0.613     2.558\n",
       "units_        -7.9982      6.335     -1.263      0.215       -20.859     4.863\n",
       "emp_          -0.6667      0.615     -1.084      0.286        -1.915     0.582\n",
       "==============================================================================\n",
       "Omnibus:                        0.930   Durbin-Watson:                   2.588\n",
       "Prob(Omnibus):                  0.628   Jarque-Bera (JB):                0.818\n",
       "Skew:                           0.004   Prob(JB):                        0.664\n",
       "Kurtosis:                       2.291   Cond. No.                         464.\n",
       "==============================================================================\n",
       "\n",
       "Warnings:\n",
       "[1] Standard Errors assume that the covariance matrix of the errors is correctly specified.\n",
       "\"\"\""
      ]
     },
     "execution_count": 32,
     "metadata": {},
     "output_type": "execute_result"
    }
   ],
   "source": [
    "df['wages_']=df['log_wages1'].diff(1)\n",
    "df['units_']=df['log_units'].diff(1)\n",
    "df['emp_']=df['log_employment'].diff(1)\n",
    "df['rent_']=df['log_rent'].diff(1)\n",
    "X=df[['const','wages_','units_','emp_']].dropna()\n",
    "y=df['rent_'].dropna()\n",
    "model=sm.OLS(y,X).fit()\n",
    "model.summary()"
   ]
  },
  {
   "cell_type": "markdown",
   "metadata": {},
   "source": [
    "Let's interpret that. It looks like what is driving the increase in rents is an increase in income. A 1% shock to wages leads to a 1.583% increase to the shock of rents. Number of units and number of people employed do not have a statistically  significant effect. And on top of that there is not a statisitically significant independent trend for rents. In other words, the increase in rent is being driven solely by the increasing in wages.\n",
    "\n",
    "So can I reasonably say that if everybody took a pay cut we could reduce rents? I don't think so. There is more that I see wrong here, but I will leave that until I have more time to write a more thourough blog post at [barnesanalytics.com](http://www.barnesanalytics.com)"
   ]
  }
 ],
 "metadata": {
  "kernelspec": {
   "display_name": "Python 2",
   "language": "python",
   "name": "python2"
  },
  "language_info": {
   "codemirror_mode": {
    "name": "ipython",
    "version": 2
   },
   "file_extension": ".py",
   "mimetype": "text/x-python",
   "name": "python",
   "nbconvert_exporter": "python",
   "pygments_lexer": "ipython2",
   "version": "2.7.10"
  }
 },
 "nbformat": 4,
 "nbformat_minor": 0
}
